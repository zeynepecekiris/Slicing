{
 "cells": [
  {
   "cell_type": "code",
   "execution_count": 1,
   "id": "b774f370-e599-4dd2-809a-074004aa4285",
   "metadata": {},
   "outputs": [],
   "source": [
    "barcode=\"ABCDE1244435345\""
   ]
  },
  {
   "cell_type": "code",
   "execution_count": 2,
   "id": "a998ab26-0099-4be3-8815-2d9a1eb271c0",
   "metadata": {},
   "outputs": [
    {
     "data": {
      "text/plain": [
       "'A'"
      ]
     },
     "execution_count": 2,
     "metadata": {},
     "output_type": "execute_result"
    }
   ],
   "source": [
    "barcode[0]"
   ]
  },
  {
   "cell_type": "code",
   "execution_count": 3,
   "id": "a53899d6-4863-47d6-8d7b-bb63710ed833",
   "metadata": {},
   "outputs": [
    {
     "data": {
      "text/plain": [
       "'D'"
      ]
     },
     "execution_count": 3,
     "metadata": {},
     "output_type": "execute_result"
    }
   ],
   "source": [
    "barcode[3]"
   ]
  },
  {
   "cell_type": "code",
   "execution_count": 4,
   "id": "4b09c944-6f7e-4337-9dce-ff81b2196ff3",
   "metadata": {},
   "outputs": [
    {
     "data": {
      "text/plain": [
       "'Ab'"
      ]
     },
     "execution_count": 4,
     "metadata": {},
     "output_type": "execute_result"
    }
   ],
   "source": [
    "\"A\"+\"b\""
   ]
  },
  {
   "cell_type": "code",
   "execution_count": 5,
   "id": "59420061-e401-458f-a1ce-57e3eec8cdcc",
   "metadata": {},
   "outputs": [
    {
     "ename": "NameError",
     "evalue": "name 'ece' is not defined",
     "output_type": "error",
     "traceback": [
      "\u001b[1;31m---------------------------------------------------------------------------\u001b[0m",
      "\u001b[1;31mNameError\u001b[0m                                 Traceback (most recent call last)",
      "Cell \u001b[1;32mIn[5], line 1\u001b[0m\n\u001b[1;32m----> 1\u001b[0m name \u001b[38;5;241m=\u001b[39m ece\n",
      "\u001b[1;31mNameError\u001b[0m: name 'ece' is not defined"
     ]
    }
   ],
   "source": [
    "name = ece"
   ]
  },
  {
   "cell_type": "code",
   "execution_count": null,
   "id": "d3f7fcbd-8b8a-419a-8b29-896d45c49549",
   "metadata": {},
   "outputs": [],
   "source": [
    "name = \"ece\""
   ]
  },
  {
   "cell_type": "code",
   "execution_count": null,
   "id": "2179d69c-291c-40ea-9dec-82166e0a828c",
   "metadata": {},
   "outputs": [],
   "source": [
    "surname=\"kiris\""
   ]
  },
  {
   "cell_type": "code",
   "execution_count": null,
   "id": "c271c93f-9edf-47a3-99a7-c3eae1da3d1e",
   "metadata": {},
   "outputs": [],
   "source": [
    "fullname=name +\" \"+surname"
   ]
  },
  {
   "cell_type": "code",
   "execution_count": null,
   "id": "84390c00-9ed2-411b-8efb-f28094076185",
   "metadata": {},
   "outputs": [],
   "source": [
    "fullname"
   ]
  },
  {
   "cell_type": "code",
   "execution_count": null,
   "id": "6c5832d6-de2c-4b5a-9f64-72301b8676ee",
   "metadata": {},
   "outputs": [],
   "source": [
    "fullname *5"
   ]
  },
  {
   "cell_type": "code",
   "execution_count": null,
   "id": "e206c073-4faf-4ebe-b137-9176b8329f48",
   "metadata": {},
   "outputs": [],
   "source": [
    "a*50"
   ]
  },
  {
   "cell_type": "code",
   "execution_count": null,
   "id": "7da21860-ddf3-42ad-bff2-85a63f4cd1f6",
   "metadata": {},
   "outputs": [],
   "source": [
    "x=A"
   ]
  },
  {
   "cell_type": "code",
   "execution_count": null,
   "id": "8521c2ee-bbd0-4405-9d32-a73455d0713e",
   "metadata": {},
   "outputs": [],
   "source": [
    "x=\"a\""
   ]
  },
  {
   "cell_type": "code",
   "execution_count": null,
   "id": "6d3da227-beae-4525-a111-b93db5984582",
   "metadata": {},
   "outputs": [],
   "source": [
    "x*50"
   ]
  },
  {
   "cell_type": "code",
   "execution_count": null,
   "id": "e5353e35-43c8-4ef0-baef-af3f135bf4d1",
   "metadata": {},
   "outputs": [],
   "source": [
    "barcode[0]+barcode[1]+barcode[3]"
   ]
  },
  {
   "cell_type": "code",
   "execution_count": null,
   "id": "0ff5a0ec-6eca-48e0-acce-dd4a4e3ddfe7",
   "metadata": {},
   "outputs": [],
   "source": [
    "#slicing, starting index,stopping index, stepping size"
   ]
  },
  {
   "cell_type": "code",
   "execution_count": null,
   "id": "7beea9ca-266d-49f5-957d-87cf841c6b26",
   "metadata": {},
   "outputs": [],
   "source": [
    "barcode[::]"
   ]
  },
  {
   "cell_type": "code",
   "execution_count": null,
   "id": "2a448f89-457b-48cb-89ff-1c1b7f93d84f",
   "metadata": {},
   "outputs": [],
   "source": [
    "barcode[0:4:1]"
   ]
  },
  {
   "cell_type": "code",
   "execution_count": null,
   "id": "a145bb27-73fb-42f4-9076-ed5351734c35",
   "metadata": {},
   "outputs": [],
   "source": [
    "barcode[0:3:1]"
   ]
  },
  {
   "cell_type": "code",
   "execution_count": null,
   "id": "0114f2a2-2774-4f8b-b4d1-6def45edb216",
   "metadata": {},
   "outputs": [],
   "source": [
    "barcode[3::]"
   ]
  },
  {
   "cell_type": "code",
   "execution_count": null,
   "id": "68b45cda-9d33-4223-a4ef-f7e47c183657",
   "metadata": {},
   "outputs": [],
   "source": [
    "barcode[:3:]"
   ]
  },
  {
   "cell_type": "code",
   "execution_count": null,
   "id": "bf860dd0-3200-4217-847b-38faafb1e5bb",
   "metadata": {},
   "outputs": [],
   "source": [
    "barcode[3:5]"
   ]
  },
  {
   "cell_type": "code",
   "execution_count": null,
   "id": "3b57c0fe-14c9-46d8-8f81-1b8e8a00108f",
   "metadata": {},
   "outputs": [],
   "source": [
    "barcode[::-1] #ters cevirme islemi"
   ]
  },
  {
   "cell_type": "code",
   "execution_count": null,
   "id": "cfc104cf-2658-41aa-ab38-c85461bfde8f",
   "metadata": {},
   "outputs": [],
   "source": [
    "name = \"ece kiris\""
   ]
  },
  {
   "cell_type": "code",
   "execution_count": null,
   "id": "23476f8d-9718-4f9e-a915-838c9b4b9adb",
   "metadata": {},
   "outputs": [],
   "source": [
    "help(name.index)"
   ]
  },
  {
   "cell_type": "code",
   "execution_count": null,
   "id": "d320547e-6d3c-4970-82cf-32e8ed85db2f",
   "metadata": {},
   "outputs": [],
   "source": [
    "name.split()"
   ]
  },
  {
   "cell_type": "code",
   "execution_count": null,
   "id": "dd4dd3c5-8827-43fe-bac7-21706ea3ea85",
   "metadata": {},
   "outputs": [],
   "source": [
    "type(name.split())"
   ]
  },
  {
   "cell_type": "code",
   "execution_count": null,
   "id": "e5c5df78-101e-4f07-be63-f0c74ced7806",
   "metadata": {},
   "outputs": [],
   "source": []
  }
 ],
 "metadata": {
  "kernelspec": {
   "display_name": "Python 3 (ipykernel)",
   "language": "python",
   "name": "python3"
  },
  "language_info": {
   "codemirror_mode": {
    "name": "ipython",
    "version": 3
   },
   "file_extension": ".py",
   "mimetype": "text/x-python",
   "name": "python",
   "nbconvert_exporter": "python",
   "pygments_lexer": "ipython3",
   "version": "3.12.7"
  }
 },
 "nbformat": 4,
 "nbformat_minor": 5
}
